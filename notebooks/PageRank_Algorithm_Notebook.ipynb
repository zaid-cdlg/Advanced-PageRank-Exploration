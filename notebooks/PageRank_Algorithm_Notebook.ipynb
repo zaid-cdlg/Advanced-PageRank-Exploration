{
  "cells": [
    {
      "cell_type": "markdown",
      "metadata": {
        "id": "78e16610"
      },
      "source": [
        "## Introduction\n",
        "This notebook is dedicated to implementing and understanding the PageRank algorithm, which is fundamental to search engine technology and network analysis. It provides a practical approach to applying the algorithm in Python, complete with examples and visualizations."
      ]
    },
    {
      "cell_type": "code",
      "execution_count": null,
      "metadata": {
        "id": "382bba95"
      },
      "outputs": [],
      "source": [
        "# Importing necessary libraries for numerical operations and data visualization\n",
        "\n",
        "import networkx as nx\n",
        "import matplotlib.pyplot as plt\n",
        "import numpy as np\n",
        "DG = nx.DiGraph()\n",
        "DG.add_nodes_from(\"ABCD\")\n",
        "nx.draw(DG,with_labels=True)\n",
        "plt.show()"
      ]
    },
    {
      "cell_type": "code",
      "execution_count": null,
      "metadata": {
        "id": "a0a101a2"
      },
      "outputs": [],
      "source": [
        "# Setting up the initial PageRank matrix with transition probabilities\n",
        "# Explain how you are initializing the matrix and why\n",
        "pr=nx.pagerank(DG, alpha=0.85)\n",
        "pr"
      ]
    },
    {
      "cell_type": "code",
      "execution_count": null,
      "metadata": {
        "id": "5bc75abd"
      },
      "outputs": [],
      "source": [
        "# Implementing the PageRank algorithm using a power iteration method\n",
        "# Explain the steps of the algorithm here\n",
        "DG.add_weighted_edges_from([(\"A\", \"B\", 1), (\"B\", \"C\", 1),(\"C\",\"D\",1),(\"D\",\"A\",1)])\n",
        "nx.draw(DG,with_labels=True)\n",
        "plt.show()"
      ]
    },
    {
      "cell_type": "code",
      "execution_count": null,
      "metadata": {
        "id": "06b775d4"
      },
      "outputs": [],
      "source": [
        "# Additional code block\n",
        "A=np.matrix([(0,0,0,1),(1,0,0,0),(0,1,0,0),(0,0,1,0)])\n",
        "A"
      ]
    },
    {
      "cell_type": "code",
      "execution_count": null,
      "metadata": {
        "id": "1c0f953d"
      },
      "outputs": [],
      "source": [
        "# Additional code block\n",
        "DG_test = nx.DiGraph()\n",
        "DG_test.add_nodes_from([1,2,3,4])\n",
        "DG_test.add_weighted_edges_from([(1,3,1), (1,4, 1),(1,2,1),(2,3,1),(2,4,1),(3,1,1),(4,1,1),(4,3,1)])\n",
        "nx.draw(DG_test, with_labels=True)\n",
        "plt.show()"
      ]
    },
    {
      "cell_type": "code",
      "execution_count": null,
      "metadata": {
        "id": "7193b445"
      },
      "outputs": [],
      "source": [
        "# Additional code block\n",
        "B=np.matrix([(0,0,1,0.5),(1/3,0,0,0),(1/3,0.5,0,0.5),(1/3,0.5,0,0)])\n",
        "B"
      ]
    },
    {
      "cell_type": "code",
      "execution_count": null,
      "metadata": {
        "id": "3e152bfd"
      },
      "outputs": [],
      "source": [
        "# Additional code block\n",
        "pr=nx.pagerank(DG_test,alpha=1)\n",
        "pr"
      ]
    },
    {
      "cell_type": "code",
      "execution_count": null,
      "metadata": {
        "id": "c89a8950"
      },
      "outputs": [],
      "source": [
        "# Additional code block\n",
        "np.array((B**1000)*T)"
      ]
    },
    {
      "cell_type": "code",
      "execution_count": null,
      "metadata": {
        "id": "b9b148d0"
      },
      "outputs": [],
      "source": [
        "# Additional code block\n",
        "G=nx.fast_gnp_random_graph(10,0.5,directed=True)\n",
        "nx.draw(G,with_labels=True)\n",
        "plt.show()"
      ]
    },
    {
      "cell_type": "code",
      "execution_count": null,
      "metadata": {
        "id": "9b55e626"
      },
      "outputs": [],
      "source": [
        "# Additional code block\n",
        "pr=nx.pagerank(G,alpha=0.85)\n",
        "rank_vector=np.array([[*pr.values()]])\n",
        "best_node=np.argmax(rank_vector)\n",
        "print(\"The most popular website is {}\".format(best_node))"
      ]
    },
    {
      "cell_type": "markdown",
      "metadata": {
        "id": "7a9034c6"
      },
      "source": [
        "## Conclusion\n",
        "In this notebook, we explored the PageRank algorithm in detail, demonstrating its implementation and application. The key takeaway is the algorithm's ability to determine the importance of nodes in a network, which is crucial in various applications like search engines and social network analysis."
      ]
    },
    {
      "cell_type": "code",
      "execution_count": null,
      "metadata": {
        "id": "653ce570"
      },
      "outputs": [],
      "source": [
        "\n",
        "# Visualizing the PageRank scores\n",
        "plt.figure(figsize=(10,6))\n",
        "plt.bar(range(len(page_ranks)), page_ranks, color='blue')\n",
        "plt.xlabel('Pages')\n",
        "plt.ylabel('PageRank Score')\n",
        "plt.title('Visualization of PageRank Scores')\n",
        "plt.show()\n"
      ]
    },
    {
      "cell_type": "markdown",
      "metadata": {
        "id": "44dd4eb9"
      },
      "source": [
        "## Conclusion\n",
        "In this notebook, we delved into the PageRank algorithm, a fundamental concept in web search algorithms. We implemented the algorithm in Python, visualized the results, and discussed its applications and implications. This exploration demonstrates the algorithm's ability to evaluate the importance of webpages in a network, a key component in search engine technology."
      ]
    }
  ],
  "metadata": {
    "accelerator": "GPU",
    "colab": {
      "provenance": []
    },
    "kernelspec": {
      "display_name": "Python 3",
      "name": "python3"
    }
  },
  "nbformat": 4,
  "nbformat_minor": 0
}